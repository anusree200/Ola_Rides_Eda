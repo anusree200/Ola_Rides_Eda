{
 "cells": [
  {
   "cell_type": "markdown",
   "id": "7a1d5c41",
   "metadata": {},
   "source": [
    "<span style=\"color:#e02860\">\n",
    "<span style=\"font-size:22px;\">\n",
    "\n",
    "#### OLA RIDES DATASET"
   ]
  },
  {
   "cell_type": "markdown",
   "id": "291d3f3f",
   "metadata": {},
   "source": [
    "<p style=\"text-align:justify;\">\n",
    "<span style=\"color:#ed7c2b\">\n",
    "<span style=\"font-size:22px;\">\n",
    "The rides dataset contains 50,000 ride records with details such as ride IDs, dates and times, service types (cab or auto), source and destination locations, ride durations, distances, fare details, payment methods, and ride statuses. Additional fields include ride charges, miscellaneous charges, and total fares. It provides information about how passengers travel between different locations using various transport services. This dataset can be used to analyze ride patterns, study fare variations, identify factors influencing cancellations or delays, and evaluate customer payment preferences. In this dataset, I am going to clean and analyze the data to understand travel trends, explore cost patterns, and find insights to improve ride service performance."
   ]
  },
  {
   "cell_type": "markdown",
   "id": "0465ff3d",
   "metadata": {},
   "source": [
    "## Introduction:"
   ]
  },
  {
   "cell_type": "markdown",
   "id": "d85d13c9",
   "metadata": {},
   "source": [
    "#### Import the necessary Libraries"
   ]
  },
  {
   "cell_type": "code",
   "execution_count": 1,
   "id": "0fb71467",
   "metadata": {},
   "outputs": [],
   "source": [
    "import pandas as pd\n",
    "import matplotlib.pyplot as plt\n",
    "import seaborn as sns"
   ]
  },
  {
   "cell_type": "markdown",
   "id": "0dbc43bd",
   "metadata": {},
   "source": [
    "#### Import dataset"
   ]
  },
  {
   "cell_type": "code",
   "execution_count": null,
   "id": "41e03878",
   "metadata": {},
   "outputs": [],
   "source": [
    "df=pd.read_csv(\"rides_data.csv\")"
   ]
  },
  {
   "cell_type": "markdown",
   "id": "be4ef708",
   "metadata": {},
   "source": [
    "#### Display few rows of dataset"
   ]
  },
  {
   "cell_type": "code",
   "execution_count": 3,
   "id": "87d90152",
   "metadata": {},
   "outputs": [
    {
     "data": {
      "text/html": [
       "<div>\n",
       "<style scoped>\n",
       "    .dataframe tbody tr th:only-of-type {\n",
       "        vertical-align: middle;\n",
       "    }\n",
       "\n",
       "    .dataframe tbody tr th {\n",
       "        vertical-align: top;\n",
       "    }\n",
       "\n",
       "    .dataframe thead th {\n",
       "        text-align: right;\n",
       "    }\n",
       "</style>\n",
       "<table border=\"1\" class=\"dataframe\">\n",
       "  <thead>\n",
       "    <tr style=\"text-align: right;\">\n",
       "      <th></th>\n",
       "      <th>services</th>\n",
       "      <th>date</th>\n",
       "      <th>time</th>\n",
       "      <th>ride_status</th>\n",
       "      <th>source</th>\n",
       "      <th>destination</th>\n",
       "      <th>duration</th>\n",
       "      <th>ride_id</th>\n",
       "      <th>distance</th>\n",
       "      <th>ride_charge</th>\n",
       "      <th>misc_charge</th>\n",
       "      <th>total_fare</th>\n",
       "      <th>payment_method</th>\n",
       "    </tr>\n",
       "  </thead>\n",
       "  <tbody>\n",
       "    <tr>\n",
       "      <th>0</th>\n",
       "      <td>cab economy</td>\n",
       "      <td>2024-07-15</td>\n",
       "      <td>08:30:40.542646</td>\n",
       "      <td>completed</td>\n",
       "      <td>Balagere Harbor</td>\n",
       "      <td>Harohalli Nagar</td>\n",
       "      <td>39</td>\n",
       "      <td>RD3161218751875354</td>\n",
       "      <td>27.21</td>\n",
       "      <td>764.83</td>\n",
       "      <td>31.51</td>\n",
       "      <td>796.34</td>\n",
       "      <td>Amazon Pay</td>\n",
       "    </tr>\n",
       "    <tr>\n",
       "      <th>1</th>\n",
       "      <td>auto</td>\n",
       "      <td>2024-07-05</td>\n",
       "      <td>23:36:51.542646</td>\n",
       "      <td>completed</td>\n",
       "      <td>Basavanagudi 3rd Block</td>\n",
       "      <td>Bikasipura 1st Stage</td>\n",
       "      <td>89</td>\n",
       "      <td>RD8171514284594096</td>\n",
       "      <td>34.03</td>\n",
       "      <td>314.83</td>\n",
       "      <td>49.52</td>\n",
       "      <td>364.35</td>\n",
       "      <td>Paytm</td>\n",
       "    </tr>\n",
       "    <tr>\n",
       "      <th>2</th>\n",
       "      <td>auto</td>\n",
       "      <td>2024-07-23</td>\n",
       "      <td>11:05:37.542646</td>\n",
       "      <td>cancelled</td>\n",
       "      <td>Babusapalya Cove</td>\n",
       "      <td>Kothaguda Terrace</td>\n",
       "      <td>25</td>\n",
       "      <td>RD9376481122237926</td>\n",
       "      <td>20.24</td>\n",
       "      <td>NaN</td>\n",
       "      <td>NaN</td>\n",
       "      <td>NaN</td>\n",
       "      <td>NaN</td>\n",
       "    </tr>\n",
       "    <tr>\n",
       "      <th>3</th>\n",
       "      <td>cab economy</td>\n",
       "      <td>2024-06-24</td>\n",
       "      <td>08:45:10.542646</td>\n",
       "      <td>completed</td>\n",
       "      <td>Mahadevapura Mews</td>\n",
       "      <td>Kanakapura Arc</td>\n",
       "      <td>89</td>\n",
       "      <td>RD3676889143182765</td>\n",
       "      <td>31.17</td>\n",
       "      <td>484.73</td>\n",
       "      <td>15.84</td>\n",
       "      <td>500.57</td>\n",
       "      <td>QR scan</td>\n",
       "    </tr>\n",
       "    <tr>\n",
       "      <th>4</th>\n",
       "      <td>cab economy</td>\n",
       "      <td>2024-07-15</td>\n",
       "      <td>00:26:44.542646</td>\n",
       "      <td>completed</td>\n",
       "      <td>Ganganagar Cove</td>\n",
       "      <td>Basaveshwaranagar Colony</td>\n",
       "      <td>95</td>\n",
       "      <td>RD6639410275948084</td>\n",
       "      <td>27.21</td>\n",
       "      <td>663.50</td>\n",
       "      <td>14.13</td>\n",
       "      <td>677.63</td>\n",
       "      <td>Amazon Pay</td>\n",
       "    </tr>\n",
       "  </tbody>\n",
       "</table>\n",
       "</div>"
      ],
      "text/plain": [
       "      services        date             time ride_status  \\\n",
       "0  cab economy  2024-07-15  08:30:40.542646   completed   \n",
       "1         auto  2024-07-05  23:36:51.542646   completed   \n",
       "2         auto  2024-07-23  11:05:37.542646   cancelled   \n",
       "3  cab economy  2024-06-24  08:45:10.542646   completed   \n",
       "4  cab economy  2024-07-15  00:26:44.542646   completed   \n",
       "\n",
       "                   source               destination  duration  \\\n",
       "0         Balagere Harbor           Harohalli Nagar        39   \n",
       "1  Basavanagudi 3rd Block      Bikasipura 1st Stage        89   \n",
       "2        Babusapalya Cove         Kothaguda Terrace        25   \n",
       "3       Mahadevapura Mews            Kanakapura Arc        89   \n",
       "4         Ganganagar Cove  Basaveshwaranagar Colony        95   \n",
       "\n",
       "              ride_id  distance  ride_charge  misc_charge  total_fare  \\\n",
       "0  RD3161218751875354     27.21       764.83        31.51      796.34   \n",
       "1  RD8171514284594096     34.03       314.83        49.52      364.35   \n",
       "2  RD9376481122237926     20.24          NaN          NaN         NaN   \n",
       "3  RD3676889143182765     31.17       484.73        15.84      500.57   \n",
       "4  RD6639410275948084     27.21       663.50        14.13      677.63   \n",
       "\n",
       "  payment_method  \n",
       "0     Amazon Pay  \n",
       "1          Paytm  \n",
       "2            NaN  \n",
       "3        QR scan  \n",
       "4     Amazon Pay  "
      ]
     },
     "execution_count": 3,
     "metadata": {},
     "output_type": "execute_result"
    }
   ],
   "source": [
    "df.head()"
   ]
  },
  {
   "cell_type": "markdown",
   "id": "3ca29bc8",
   "metadata": {},
   "source": [
    "#### Data Cleaning"
   ]
  },
  {
   "cell_type": "code",
   "execution_count": 4,
   "id": "a1f1b8e4",
   "metadata": {},
   "outputs": [
    {
     "data": {
      "text/plain": [
       "services             0\n",
       "date                 0\n",
       "time                 0\n",
       "ride_status          0\n",
       "source               0\n",
       "destination          0\n",
       "duration             0\n",
       "ride_id              0\n",
       "distance             0\n",
       "ride_charge       5036\n",
       "misc_charge       5036\n",
       "total_fare        5036\n",
       "payment_method    5036\n",
       "dtype: int64"
      ]
     },
     "execution_count": 4,
     "metadata": {},
     "output_type": "execute_result"
    }
   ],
   "source": [
    "#-----Check whether any null values-----\n",
    "df.isnull().sum()"
   ]
  },
  {
   "cell_type": "markdown",
   "id": "be43cca0",
   "metadata": {},
   "source": [
    "#### Dropping null values in payment_method"
   ]
  },
  {
   "cell_type": "code",
   "execution_count": 5,
   "id": "2810ed2e",
   "metadata": {},
   "outputs": [],
   "source": [
    "df = df.dropna(subset=['payment_method'])"
   ]
  },
  {
   "cell_type": "code",
   "execution_count": 6,
   "id": "968c6e10",
   "metadata": {},
   "outputs": [
    {
     "data": {
      "text/plain": [
       "services          0\n",
       "date              0\n",
       "time              0\n",
       "ride_status       0\n",
       "source            0\n",
       "destination       0\n",
       "duration          0\n",
       "ride_id           0\n",
       "distance          0\n",
       "ride_charge       0\n",
       "misc_charge       0\n",
       "total_fare        0\n",
       "payment_method    0\n",
       "dtype: int64"
      ]
     },
     "execution_count": 6,
     "metadata": {},
     "output_type": "execute_result"
    }
   ],
   "source": [
    "#-----Check whether any null values-----\n",
    "df.isnull().sum()"
   ]
  },
  {
   "cell_type": "code",
   "execution_count": 7,
   "id": "3d9f7a7b",
   "metadata": {},
   "outputs": [
    {
     "data": {
      "text/plain": [
       "np.int64(0)"
      ]
     },
     "execution_count": 7,
     "metadata": {},
     "output_type": "execute_result"
    }
   ],
   "source": [
    "#-----Check duplicates---------\n",
    "df.duplicated().sum()"
   ]
  },
  {
   "cell_type": "markdown",
   "id": "98a1169d",
   "metadata": {},
   "source": [
    "#### Check the datatype of columns"
   ]
  },
  {
   "cell_type": "code",
   "execution_count": 8,
   "id": "81f3dc12",
   "metadata": {},
   "outputs": [
    {
     "name": "stdout",
     "output_type": "stream",
     "text": [
      "<class 'pandas.core.frame.DataFrame'>\n",
      "Index: 44964 entries, 0 to 49999\n",
      "Data columns (total 13 columns):\n",
      " #   Column          Non-Null Count  Dtype  \n",
      "---  ------          --------------  -----  \n",
      " 0   services        44964 non-null  object \n",
      " 1   date            44964 non-null  object \n",
      " 2   time            44964 non-null  object \n",
      " 3   ride_status     44964 non-null  object \n",
      " 4   source          44964 non-null  object \n",
      " 5   destination     44964 non-null  object \n",
      " 6   duration        44964 non-null  int64  \n",
      " 7   ride_id         44964 non-null  object \n",
      " 8   distance        44964 non-null  float64\n",
      " 9   ride_charge     44964 non-null  float64\n",
      " 10  misc_charge     44964 non-null  float64\n",
      " 11  total_fare      44964 non-null  float64\n",
      " 12  payment_method  44964 non-null  object \n",
      "dtypes: float64(4), int64(1), object(8)\n",
      "memory usage: 4.8+ MB\n"
     ]
    }
   ],
   "source": [
    "df.info()"
   ]
  },
  {
   "cell_type": "code",
   "execution_count": null,
   "id": "e2f543b3",
   "metadata": {},
   "outputs": [
    {
     "name": "stderr",
     "output_type": "stream",
     "text": [
      "C:\\Users\\anusr\\AppData\\Local\\Temp\\ipykernel_38452\\1739038104.py:5: UserWarning: Could not infer format, so each element will be parsed individually, falling back to `dateutil`. To ensure parsing is consistent and as-expected, please specify a format.\n",
      "  df['time']=pd.to_datetime(df['time'])\n",
      "C:\\Users\\anusr\\AppData\\Local\\Temp\\ipykernel_38452\\1739038104.py:6: FutureWarning: 'S' is deprecated and will be removed in a future version, please use 's' instead.\n",
      "  df['time']=df['time'].dt.floor('S')      #---------Removing seconds from time------------------\n"
     ]
    },
    {
     "data": {
      "text/html": [
       "<div>\n",
       "<style scoped>\n",
       "    .dataframe tbody tr th:only-of-type {\n",
       "        vertical-align: middle;\n",
       "    }\n",
       "\n",
       "    .dataframe tbody tr th {\n",
       "        vertical-align: top;\n",
       "    }\n",
       "\n",
       "    .dataframe thead th {\n",
       "        text-align: right;\n",
       "    }\n",
       "</style>\n",
       "<table border=\"1\" class=\"dataframe\">\n",
       "  <thead>\n",
       "    <tr style=\"text-align: right;\">\n",
       "      <th></th>\n",
       "      <th>services</th>\n",
       "      <th>date</th>\n",
       "      <th>time</th>\n",
       "      <th>ride_status</th>\n",
       "      <th>source</th>\n",
       "      <th>destination</th>\n",
       "      <th>duration</th>\n",
       "      <th>ride_id</th>\n",
       "      <th>distance</th>\n",
       "      <th>ride_charge</th>\n",
       "      <th>misc_charge</th>\n",
       "      <th>total_fare</th>\n",
       "      <th>payment_method</th>\n",
       "    </tr>\n",
       "  </thead>\n",
       "  <tbody>\n",
       "    <tr>\n",
       "      <th>0</th>\n",
       "      <td>cab economy</td>\n",
       "      <td>2024-07-15</td>\n",
       "      <td>08:30:40</td>\n",
       "      <td>completed</td>\n",
       "      <td>Balagere Harbor</td>\n",
       "      <td>Harohalli Nagar</td>\n",
       "      <td>39</td>\n",
       "      <td>RD3161218751875354</td>\n",
       "      <td>27.21</td>\n",
       "      <td>764.83</td>\n",
       "      <td>31.51</td>\n",
       "      <td>796.34</td>\n",
       "      <td>Amazon Pay</td>\n",
       "    </tr>\n",
       "    <tr>\n",
       "      <th>1</th>\n",
       "      <td>auto</td>\n",
       "      <td>2024-07-05</td>\n",
       "      <td>23:36:51</td>\n",
       "      <td>completed</td>\n",
       "      <td>Basavanagudi 3rd Block</td>\n",
       "      <td>Bikasipura 1st Stage</td>\n",
       "      <td>89</td>\n",
       "      <td>RD8171514284594096</td>\n",
       "      <td>34.03</td>\n",
       "      <td>314.83</td>\n",
       "      <td>49.52</td>\n",
       "      <td>364.35</td>\n",
       "      <td>Paytm</td>\n",
       "    </tr>\n",
       "    <tr>\n",
       "      <th>3</th>\n",
       "      <td>cab economy</td>\n",
       "      <td>2024-06-24</td>\n",
       "      <td>08:45:10</td>\n",
       "      <td>completed</td>\n",
       "      <td>Mahadevapura Mews</td>\n",
       "      <td>Kanakapura Arc</td>\n",
       "      <td>89</td>\n",
       "      <td>RD3676889143182765</td>\n",
       "      <td>31.17</td>\n",
       "      <td>484.73</td>\n",
       "      <td>15.84</td>\n",
       "      <td>500.57</td>\n",
       "      <td>QR scan</td>\n",
       "    </tr>\n",
       "    <tr>\n",
       "      <th>4</th>\n",
       "      <td>cab economy</td>\n",
       "      <td>2024-07-15</td>\n",
       "      <td>00:26:44</td>\n",
       "      <td>completed</td>\n",
       "      <td>Ganganagar Cove</td>\n",
       "      <td>Basaveshwaranagar Colony</td>\n",
       "      <td>95</td>\n",
       "      <td>RD6639410275948084</td>\n",
       "      <td>27.21</td>\n",
       "      <td>663.50</td>\n",
       "      <td>14.13</td>\n",
       "      <td>677.63</td>\n",
       "      <td>Amazon Pay</td>\n",
       "    </tr>\n",
       "    <tr>\n",
       "      <th>5</th>\n",
       "      <td>auto</td>\n",
       "      <td>2024-07-02</td>\n",
       "      <td>01:28:29</td>\n",
       "      <td>completed</td>\n",
       "      <td>HSR Layout Area</td>\n",
       "      <td>JP Nagar Viewpoint</td>\n",
       "      <td>18</td>\n",
       "      <td>RD5922205486441934</td>\n",
       "      <td>33.69</td>\n",
       "      <td>456.73</td>\n",
       "      <td>25.19</td>\n",
       "      <td>481.92</td>\n",
       "      <td>QR scan</td>\n",
       "    </tr>\n",
       "  </tbody>\n",
       "</table>\n",
       "</div>"
      ],
      "text/plain": [
       "      services       date      time ride_status                  source  \\\n",
       "0  cab economy 2024-07-15  08:30:40   completed         Balagere Harbor   \n",
       "1         auto 2024-07-05  23:36:51   completed  Basavanagudi 3rd Block   \n",
       "3  cab economy 2024-06-24  08:45:10   completed       Mahadevapura Mews   \n",
       "4  cab economy 2024-07-15  00:26:44   completed         Ganganagar Cove   \n",
       "5         auto 2024-07-02  01:28:29   completed         HSR Layout Area   \n",
       "\n",
       "                destination  duration             ride_id  distance  \\\n",
       "0           Harohalli Nagar        39  RD3161218751875354     27.21   \n",
       "1      Bikasipura 1st Stage        89  RD8171514284594096     34.03   \n",
       "3            Kanakapura Arc        89  RD3676889143182765     31.17   \n",
       "4  Basaveshwaranagar Colony        95  RD6639410275948084     27.21   \n",
       "5        JP Nagar Viewpoint        18  RD5922205486441934     33.69   \n",
       "\n",
       "   ride_charge  misc_charge  total_fare payment_method  \n",
       "0       764.83        31.51      796.34     Amazon Pay  \n",
       "1       314.83        49.52      364.35          Paytm  \n",
       "3       484.73        15.84      500.57        QR scan  \n",
       "4       663.50        14.13      677.63     Amazon Pay  \n",
       "5       456.73        25.19      481.92        QR scan  "
      ]
     },
     "execution_count": 9,
     "metadata": {},
     "output_type": "execute_result"
    }
   ],
   "source": [
    "#-------Changing datatype of date column------\n",
    "df['date']=pd.to_datetime(df['date'])\n",
    "\n",
    "#-------Changing datatype of time column------\n",
    "df['time']=pd.to_datetime(df['time'])\n",
    "df['time']=df['time'].dt.floor('S')      #---------Removing seconds from time------------------\n",
    "df['time']=df['time'].dt.time\n",
    "df.head()\n",
    "# pylint: disable=warning-name"
   ]
  },
  {
   "cell_type": "markdown",
   "id": "33184507",
   "metadata": {},
   "source": [
    "#### Checking any negative values in the dataset"
   ]
  },
  {
   "cell_type": "code",
   "execution_count": 10,
   "id": "13979958",
   "metadata": {},
   "outputs": [
    {
     "name": "stdout",
     "output_type": "stream",
     "text": [
      "Negative values per column:\n",
      " duration       0\n",
      "distance       0\n",
      "ride_charge    0\n",
      "misc_charge    0\n",
      "total_fare     0\n",
      "dtype: int64\n",
      "\n",
      "Total negative values in dataset: 0\n"
     ]
    }
   ],
   "source": [
    "# Select only numeric columns\n",
    "numeric_data = df.select_dtypes(include=[\"number\"])\n",
    "\n",
    "# Count negative values per column\n",
    "negative_counts = (numeric_data <  0).sum()\n",
    "\n",
    "# Total negatives in dataset\n",
    "total_negatives = negative_counts.sum()\n",
    "\n",
    "print(\"Negative values per column:\\n\", negative_counts)\n",
    "print(\"\\nTotal negative values in dataset:\", total_negatives)"
   ]
  },
  {
   "cell_type": "code",
   "execution_count": 11,
   "id": "0d06cc1f",
   "metadata": {},
   "outputs": [
    {
     "name": "stdout",
     "output_type": "stream",
     "text": [
      "<class 'pandas.core.frame.DataFrame'>\n",
      "Index: 44964 entries, 0 to 49999\n",
      "Data columns (total 13 columns):\n",
      " #   Column          Non-Null Count  Dtype         \n",
      "---  ------          --------------  -----         \n",
      " 0   services        44964 non-null  object        \n",
      " 1   date            44964 non-null  datetime64[ns]\n",
      " 2   time            44964 non-null  object        \n",
      " 3   ride_status     44964 non-null  object        \n",
      " 4   source          44964 non-null  object        \n",
      " 5   destination     44964 non-null  object        \n",
      " 6   duration        44964 non-null  int64         \n",
      " 7   ride_id         44964 non-null  object        \n",
      " 8   distance        44964 non-null  float64       \n",
      " 9   ride_charge     44964 non-null  float64       \n",
      " 10  misc_charge     44964 non-null  float64       \n",
      " 11  total_fare      44964 non-null  float64       \n",
      " 12  payment_method  44964 non-null  object        \n",
      "dtypes: datetime64[ns](1), float64(4), int64(1), object(7)\n",
      "memory usage: 4.8+ MB\n"
     ]
    }
   ],
   "source": [
    "df.info()"
   ]
  },
  {
   "cell_type": "markdown",
   "id": "1b89e274",
   "metadata": {},
   "source": [
    "<span style=\"color:#de4710\">\n",
    "<span style=\"font-size:26px;\">\n",
    "What are the services provided by Ola?"
   ]
  },
  {
   "cell_type": "code",
   "execution_count": 12,
   "id": "2b92ad48",
   "metadata": {},
   "outputs": [
    {
     "data": {
      "text/html": [
       "<div>\n",
       "<style scoped>\n",
       "    .dataframe tbody tr th:only-of-type {\n",
       "        vertical-align: middle;\n",
       "    }\n",
       "\n",
       "    .dataframe tbody tr th {\n",
       "        vertical-align: top;\n",
       "    }\n",
       "\n",
       "    .dataframe thead th {\n",
       "        text-align: right;\n",
       "    }\n",
       "</style>\n",
       "<table border=\"1\" class=\"dataframe\">\n",
       "  <thead>\n",
       "    <tr style=\"text-align: right;\">\n",
       "      <th></th>\n",
       "      <th>services</th>\n",
       "    </tr>\n",
       "  </thead>\n",
       "  <tbody>\n",
       "    <tr>\n",
       "      <th>0</th>\n",
       "      <td>cab economy</td>\n",
       "    </tr>\n",
       "    <tr>\n",
       "      <th>1</th>\n",
       "      <td>auto</td>\n",
       "    </tr>\n",
       "    <tr>\n",
       "      <th>2</th>\n",
       "      <td>parcel</td>\n",
       "    </tr>\n",
       "    <tr>\n",
       "      <th>3</th>\n",
       "      <td>bike lite</td>\n",
       "    </tr>\n",
       "    <tr>\n",
       "      <th>4</th>\n",
       "      <td>bike</td>\n",
       "    </tr>\n",
       "  </tbody>\n",
       "</table>\n",
       "</div>"
      ],
      "text/plain": [
       "      services\n",
       "0  cab economy\n",
       "1         auto\n",
       "2       parcel\n",
       "3    bike lite\n",
       "4         bike"
      ]
     },
     "execution_count": 12,
     "metadata": {},
     "output_type": "execute_result"
    }
   ],
   "source": [
    "data=df['services'].unique()\n",
    "uni_df=pd.DataFrame(data,columns=['services'])\n",
    "uni_df"
   ]
  },
  {
   "cell_type": "code",
   "execution_count": 13,
   "id": "749be46f",
   "metadata": {},
   "outputs": [
    {
     "data": {
      "image/png": "[encoded data removed]",
      "text/plain": [
       "<Figure size 700x400 with 1 Axes>"
      ]
     },
     "metadata": {},
     "output_type": "display_data"
    }
   ],
   "source": [
    "plt.figure(figsize=(7,4))\n",
    "plt.bar(uni_df['services'], [1]*len(uni_df), color='#eb8034')  # all bars same height\n",
    "plt.xticks(rotation=0,fontweight='bold')\n",
    "plt.yticks([])  # remove y-axis\n",
    "plt.title(\"Services provided by Ola\",fontsize=18,fontweight='bold')\n",
    "plt.show()"
   ]
  },
  {
   "cell_type": "markdown",
   "id": "e61851b1",
   "metadata": {},
   "source": [
    "<p style=\"text-align:justify;\">\n",
    "<span style=\"color:#ed7c2b\">\n",
    "<span style=\"font-size:22px;\">\n",
    "The dataset has five types of services: cab economy, auto, parcel, bike lite, and bike.\n",
    "These services cover both passenger travel and goods delivery.\n",
    "\n",
    "<p style=\"text-align:justify;\">\n",
    "<span style=\"color:#ed7c2b\">\n",
    "<span style=\"font-size:22px;\">\n",
    "It shows the company is offering different options to reach more customers."
   ]
  },
  {
   "cell_type": "markdown",
   "id": "7fbeca50",
   "metadata": {},
   "source": [
    "<span style=\"color:#de4710\">\n",
    "<span style=\"font-size:26px;\">\n",
    "What is the popular service among customers?"
   ]
  },
  {
   "cell_type": "code",
   "execution_count": 14,
   "id": "0d5fce25",
   "metadata": {},
   "outputs": [
    {
     "data": {
      "text/plain": [
       "services\n",
       "bike lite       4388\n",
       "parcel          6747\n",
       "cab economy     9148\n",
       "auto           11114\n",
       "bike           13567\n",
       "Name: count, dtype: int64"
      ]
     },
     "execution_count": 14,
     "metadata": {},
     "output_type": "execute_result"
    }
   ],
   "source": [
    "pop_ser=df['services'].value_counts().sort_values()\n",
    "pop_ser"
   ]
  },
  {
   "cell_type": "code",
   "execution_count": 15,
   "id": "d8599638",
   "metadata": {},
   "outputs": [
    {
     "name": "stderr",
     "output_type": "stream",
     "text": [
      "C:\\Users\\anusr\\AppData\\Local\\Temp\\ipykernel_24468\\172529905.py:4: FutureWarning: \n",
      "\n",
      "Passing `palette` without assigning `hue` is deprecated and will be removed in v0.14.0. Assign the `x` variable to `hue` and set `legend=False` for the same effect.\n",
      "\n",
      "  sns.countplot(x='services',data=df,order=pop_ser.index,palette='Spectral')\n"
     ]
    },
    {
     "data": {
      "text/plain": [
       "<Axes: title={'center': 'Popular Services by Ola'}, xlabel='Services', ylabel='Number of Services'>"
      ]
     },
     "execution_count": 15,
     "metadata": {},
     "output_type": "execute_result"
    },
    {
     "data": {
      "image/png": "[encoded data removed]",
      "text/plain": [
       "<Figure size 640x480 with 1 Axes>"
      ]
     },
     "metadata": {},
     "output_type": "display_data"
    }
   ],
   "source": [
    "plt.xlabel('Services',fontweight='bold',fontsize=11)\n",
    "plt.ylabel('Number of Services',fontweight='bold',fontsize=11)\n",
    "plt.title('Popular Services by Ola',fontweight='bold',fontsize=15)\n",
    "sns.countplot(x='services',data=df,order=pop_ser.index,palette='Spectral')"
   ]
  },
  {
   "cell_type": "markdown",
   "id": "b8b9477f",
   "metadata": {},
   "source": [
    "<p style=\"text-align:justify;\">\n",
    "<span style=\"color:#ed7c2b\">\n",
    "<span style=\"font-size:22px;\">\n",
    "The data shows that Bike is the most popular service with 13,567 bookings, indicating very high customer demand. Auto (11,114) and Cab economy (9,148) are also widely used, showing strong preference for affordable ride options. Parcel (6,747) and Bike lite (4,388) are less used, meaning they have lower customer adoption compared to passenger rides.</p>\n",
    "\n",
    "<p style=\"text-align:justify;\">\n",
    "<span style=\"color:#ed7c2b\">\n",
    "<span style=\"font-size:22px;\">\n",
    "The main reason is that Bike rides are cheaper, faster, and easier to use in traffic, which makes them very popular in cities. Auto and cab economy are also in demand because they can carry more people and provide comfort at an affordable price. Parcel and bike lite have lower usage because they are used only for specific or limited needs like deliveries or single short rides, which are less frequent compared to daily passenger travel.</p>"
   ]
  },
  {
   "cell_type": "markdown",
   "id": "49f1f051",
   "metadata": {},
   "source": [
    "<span style=\"color:#de4710\">\n",
    "<span style=\"font-size:26px;\">\n",
    "Which are the top 5 busiest destinations?"
   ]
  },
  {
   "cell_type": "code",
   "execution_count": 16,
   "id": "06def843",
   "metadata": {},
   "outputs": [
    {
     "name": "stdout",
     "output_type": "stream",
     "text": [
      "destination\n",
      "Gottigere Landing    21\n",
      "Gottigere Square     18\n",
      "HRBR Layout Drive    17\n",
      "Kudlu Square         15\n",
      "Hulimavu Drive       15\n",
      "Name: count, dtype: int64\n"
     ]
    }
   ],
   "source": [
    "bus_dest=df['destination'].value_counts().head(5)\n",
    "print(bus_dest)"
   ]
  },
  {
   "cell_type": "code",
   "execution_count": 17,
   "id": "23bc8d4b",
   "metadata": {},
   "outputs": [
    {
     "name": "stderr",
     "output_type": "stream",
     "text": [
      "C:\\Users\\anusr\\AppData\\Local\\Temp\\ipykernel_24468\\2718324273.py:4: FutureWarning: \n",
      "\n",
      "Passing `palette` without assigning `hue` is deprecated and will be removed in v0.14.0. Assign the `x` variable to `hue` and set `legend=False` for the same effect.\n",
      "\n",
      "  sns.barplot(x=bus_dest.index,y=bus_dest.values,palette='plasma')\n"
     ]
    },
    {
     "data": {
      "text/plain": [
       "<Axes: title={'center': 'Busiest Destintions in Bengaluru'}, xlabel='Destination'>"
      ]
     },
     "execution_count": 17,
     "metadata": {},
     "output_type": "execute_result"
    },
    {
     "data": {
      "image/png": "[encoded data removed]",
      "text/plain": [
       "<Figure size 1100x400 with 1 Axes>"
      ]
     },
     "metadata": {},
     "output_type": "display_data"
    }
   ],
   "source": [
    "plt.figure(figsize=(11,4))\n",
    "plt.xlabel('Destination',fontweight='bold',fontsize=11)\n",
    "plt.title('Busiest Destintions in Bengaluru',fontweight='bold',fontsize=15)\n",
    "sns.barplot(x=bus_dest.index,y=bus_dest.values,palette='plasma')"
   ]
  },
  {
   "cell_type": "markdown",
   "id": "33a93fb9",
   "metadata": {},
   "source": [
    "<p style=\"text-align:justify;\">\n",
    "<span style=\"color:#ed7c2b\">\n",
    "<span style=\"font-size:22px;\">\n",
    "The data shows that Gottigere Landing is the most common destination with 21 trips, followed closely by Gottigere Square (18). HRBR Layout Drive is the third most visited with 17 trips. Kudlu Square and Hulimavu Drive have equal trips (15 each), showing balanced demand for these destinations. Overall, travel demand is concentrated in a few key areas, with Gottigere being the most popular.</p>\n",
    "\n",
    "<p style=\"text-align:justify;\">\n",
    "<span style=\"color:#ed7c2b\">\n",
    "<span style=\"font-size:22px;\">\n",
    "The reason could be that these destinations are key residential or commercial hubs, so more people travel there regularly. Gottigere appears most often likely because it has better connectivity, workplaces, or shopping areas attracting higher traffic. Places like Kudlu Square and Hulimavu Drive may have slightly lower counts because they serve localized or smaller populations compared to Gottigere.</p>"
   ]
  },
  {
   "cell_type": "markdown",
   "id": "5987367a",
   "metadata": {},
   "source": [
    "<span style=\"color:#de4710\">\n",
    "<span style=\"font-size:26px;\">\n",
    "What is average duration across different services?"
   ]
  },
  {
   "cell_type": "code",
   "execution_count": 18,
   "id": "e3dde59d",
   "metadata": {},
   "outputs": [
    {
     "data": {
      "text/html": [
       "<div>\n",
       "<style scoped>\n",
       "    .dataframe tbody tr th:only-of-type {\n",
       "        vertical-align: middle;\n",
       "    }\n",
       "\n",
       "    .dataframe tbody tr th {\n",
       "        vertical-align: top;\n",
       "    }\n",
       "\n",
       "    .dataframe thead th {\n",
       "        text-align: right;\n",
       "    }\n",
       "</style>\n",
       "<table border=\"1\" class=\"dataframe\">\n",
       "  <thead>\n",
       "    <tr style=\"text-align: right;\">\n",
       "      <th></th>\n",
       "      <th>services</th>\n",
       "      <th>duration</th>\n",
       "    </tr>\n",
       "  </thead>\n",
       "  <tbody>\n",
       "    <tr>\n",
       "      <th>0</th>\n",
       "      <td>bike lite</td>\n",
       "      <td>63.972425</td>\n",
       "    </tr>\n",
       "    <tr>\n",
       "      <th>1</th>\n",
       "      <td>bike</td>\n",
       "      <td>64.036338</td>\n",
       "    </tr>\n",
       "    <tr>\n",
       "      <th>2</th>\n",
       "      <td>cab economy</td>\n",
       "      <td>64.183537</td>\n",
       "    </tr>\n",
       "    <tr>\n",
       "      <th>3</th>\n",
       "      <td>parcel</td>\n",
       "      <td>64.417519</td>\n",
       "    </tr>\n",
       "    <tr>\n",
       "      <th>4</th>\n",
       "      <td>auto</td>\n",
       "      <td>65.043639</td>\n",
       "    </tr>\n",
       "  </tbody>\n",
       "</table>\n",
       "</div>"
      ],
      "text/plain": [
       "      services   duration\n",
       "0    bike lite  63.972425\n",
       "1         bike  64.036338\n",
       "2  cab economy  64.183537\n",
       "3       parcel  64.417519\n",
       "4         auto  65.043639"
      ]
     },
     "execution_count": 18,
     "metadata": {},
     "output_type": "execute_result"
    }
   ],
   "source": [
    "avg_dur=df.groupby('services')['duration'].mean().sort_values().reset_index()\n",
    "avg_dur"
   ]
  },
  {
   "cell_type": "code",
   "execution_count": 19,
   "id": "77a7d08a",
   "metadata": {},
   "outputs": [
    {
     "name": "stderr",
     "output_type": "stream",
     "text": [
      "C:\\Users\\anusr\\AppData\\Local\\Temp\\ipykernel_24468\\1882124411.py:4: FutureWarning: \n",
      "\n",
      "Passing `palette` without assigning `hue` is deprecated and will be removed in v0.14.0. Assign the `x` variable to `hue` and set `legend=False` for the same effect.\n",
      "\n",
      "  sns.barplot(data=avg_dur,x='services',y='duration',palette=\"YlOrBr\")\n"
     ]
    },
    {
     "data": {
      "text/plain": [
       "<Axes: title={'center': 'Average duration across different services'}, xlabel='Services', ylabel='Duration'>"
      ]
     },
     "execution_count": 19,
     "metadata": {},
     "output_type": "execute_result"
    },
    {
     "data": {
      "image/png": "[encoded data removed]",
      "text/plain": [
       "<Figure size 640x480 with 1 Axes>"
      ]
     },
     "metadata": {},
     "output_type": "display_data"
    }
   ],
   "source": [
    "plt.xlabel(\"Services\",fontweight='bold',fontsize=11)\n",
    "plt.ylabel(\"Duration\",fontweight='bold',fontsize=11)\n",
    "plt.title(\"Average duration across different services\",fontweight='bold',fontsize=15)\n",
    "sns.barplot(data=avg_dur,x='services',y='duration',palette=\"YlOrBr\")"
   ]
  },
  {
   "cell_type": "markdown",
   "id": "58c9c50a",
   "metadata": {},
   "source": [
    "<p style=\"text-align:justify;\">\n",
    "<span style=\"color:#ed7c2b\">\n",
    "<span style=\"font-size:22px;\">\n",
    "The data shows that Bike lite and Bike have the shortest average trip durations (around 64 minutes), while Auto has the longest (65 minutes). Cab economy and Parcel fall in between. Overall, passenger bike services are slightly faster than other services, while auto rides take a bit more time.</p>\n",
    "\n",
    "<p style=\"text-align:justify;\">\n",
    "<span style=\"color:#ed7c2b\">\n",
    "<span style=\"font-size:22px;\">\n",
    "The reason is that bike services can move through traffic easily, allowing them to navigate traffic faster. Auto and cab economy take slightly longer because they carry more passengers and may face more traffic delays. Parcel deliveries also take extra time due to stops for pickups or drop-offs.</p>"
   ]
  },
  {
   "cell_type": "markdown",
   "id": "76150c9c",
   "metadata": {},
   "source": [
    "<span style=\"color:#de4710\">\n",
    "<span style=\"font-size:26px;\">\n",
    "Which days of the week have  highest number of rides?"
   ]
  },
  {
   "cell_type": "code",
   "execution_count": 20,
   "id": "902e1554",
   "metadata": {},
   "outputs": [
    {
     "data": {
      "text/plain": [
       "date\n",
       "Saturday     5913\n",
       "Sunday       5916\n",
       "Wednesday    6575\n",
       "Friday       6585\n",
       "Thursday     6637\n",
       "Tuesday      6659\n",
       "Monday       6679\n",
       "Name: count, dtype: int64"
      ]
     },
     "execution_count": 20,
     "metadata": {},
     "output_type": "execute_result"
    }
   ],
   "source": [
    "week_high=df['date'].dt.day_name().value_counts().sort_values()\n",
    "week_high"
   ]
  },
  {
   "cell_type": "code",
   "execution_count": 21,
   "id": "456abe7e",
   "metadata": {},
   "outputs": [
    {
     "name": "stderr",
     "output_type": "stream",
     "text": [
      "C:\\Users\\anusr\\AppData\\Local\\Temp\\ipykernel_24468\\403248424.py:5: FutureWarning: \n",
      "\n",
      "Passing `palette` without assigning `hue` is deprecated and will be removed in v0.14.0. Assign the `x` variable to `hue` and set `legend=False` for the same effect.\n",
      "\n",
      "  sns.barplot(x=week_high.index,y=week_high.values,palette=\"ch:start=.2,rot=-.3\")\n"
     ]
    },
    {
     "data": {
      "text/plain": [
       "<Axes: title={'center': 'No.of Rides per Day'}, xlabel='Days', ylabel='No.of Rides'>"
      ]
     },
     "execution_count": 21,
     "metadata": {},
     "output_type": "execute_result"
    },
    {
     "data": {
      "image/png": "[encoded data removed]",
      "text/plain": [
       "<Figure size 800x600 with 1 Axes>"
      ]
     },
     "metadata": {},
     "output_type": "display_data"
    }
   ],
   "source": [
    "plt.figure(figsize=(8,6))\n",
    "plt.xlabel('Days',fontweight='bold')\n",
    "plt.ylabel('No.of Rides',fontweight='bold')\n",
    "plt.title('No.of Rides per Day',fontweight='bold',fontsize=18)\n",
    "sns.barplot(x=week_high.index,y=week_high.values,palette=\"ch:start=.2,rot=-.3\")"
   ]
  },
  {
   "cell_type": "markdown",
   "id": "f0b76b4c",
   "metadata": {},
   "source": [
    "<span style=\"color:#ed7c2b\">\n",
    "<span style=\"font-size:22px;\">\n",
    "<p style=\"text-align:justify;\">\n",
    "From this data, we can see that Monday has the highest number of bookings (6,679), while Saturday has the lowest (5,913). Overall, weekdays (Monday to Friday) have slightly higher bookings compared to weekends (Saturday and Sunday).</p>\n",
    "\n",
    "<p style=\"text-align:justify;\">\n",
    "<span style=\"color:#ed7c2b\">\n",
    "<span style=\"font-size:22px;\">\n",
    "The reason is that people travel more on weekdays for work, school, or regular activities, which increases bookings from Monday to Friday. On weekends (Saturday and Sunday), travel is slightly lower because fewer people commute regularly, leading to fewer bookings.</p>"
   ]
  },
  {
   "cell_type": "markdown",
   "id": "a83dccd0",
   "metadata": {},
   "source": [
    "<span style=\"color:#de4710\">\n",
    "<span style=\"font-size:26px;\">\n",
    "Which month has highest number of rides?"
   ]
  },
  {
   "cell_type": "code",
   "execution_count": 22,
   "id": "8418c8b2",
   "metadata": {},
   "outputs": [
    {
     "data": {
      "text/plain": [
       "date\n",
       "July      22912\n",
       "August    11918\n",
       "June      10134\n",
       "Name: count, dtype: int64"
      ]
     },
     "execution_count": 22,
     "metadata": {},
     "output_type": "execute_result"
    }
   ],
   "source": [
    "mon_ride=df['date'].dt.month_name().value_counts()\n",
    "#mycolors=['#732014','#0c690c','#d4cb1e']\n",
    "mycolors=['gold', 'lightcoral','lightskyblue']\n",
    "mon_ride"
   ]
  },
  {
   "cell_type": "code",
   "execution_count": 24,
   "id": "f8424a66",
   "metadata": {},
   "outputs": [
    {
     "data": {
      "text/plain": [
       "([<matplotlib.patches.Wedge at 0x16050ad9c00>,\n",
       "  <matplotlib.patches.Wedge at 0x16050ad9b40>,\n",
       "  <matplotlib.patches.Wedge at 0x16050adaa10>],\n",
       " [Text(-1.099503594540178, -0.03304308692038148, 'July'),\n",
       "  Text(0.8567051827462869, -0.6899682817750765, 'August'),\n",
       "  Text(0.715391816300993, 0.8355923343171396, 'June')],\n",
       " [Text(-0.5997292333855516, -0.018023501956571715, '51.0%'),\n",
       "  Text(0.46729373604342916, -0.3763463355136781, '26.5%'),\n",
       "  Text(0.39021371798235976, 0.4557776369002579, '22.5%')])"
      ]
     },
     "execution_count": 24,
     "metadata": {},
     "output_type": "execute_result"
    },
    {
     "data": {
      "image/png": "[encoded data removed]",
      "text/plain": [
       "<Figure size 640x480 with 1 Axes>"
      ]
     },
     "metadata": {},
     "output_type": "display_data"
    }
   ],
   "source": [
    "plt.title(\"Number of Rides by Month\",fontweight='bold',fontsize=16)\n",
    "plt.pie(mon_ride.values,labels=mon_ride.index,startangle=90,colors=mycolors,autopct='%1.1f%%')"
   ]
  },
  {
   "cell_type": "markdown",
   "id": "5834a3a4",
   "metadata": {},
   "source": [
    "<p style=\"text-align:justify;\">\n",
    "<span style=\"color:#ed7c2b\">\n",
    "<span style=\"font-size:22px;\">\n",
    "The data shows that July recorded the highest number of rides (22,912), followed by August (11,918) and June (10,134).</p>\n",
    "\n",
    "<span style=\"color:#ed7c2b\">\n",
    "<span style=\"font-size:22px;\">\n",
    "<p style=\"text-align:justify;\">\n",
    "The likely reason for this trend is seasonality—July often coincides with school/college vacations, holidays, and favorable weather, which increases travel and commuting. August shows slightly lower rides, possibly as vacations end and routines stabilize. June has the least because it is a transition month when schools or work schedules are still ongoing, leading to comparatively lower ride demand.</p>"
   ]
  },
  {
   "cell_type": "markdown",
   "id": "9d44af7e",
   "metadata": {},
   "source": [
    "<span style=\"color:#de4710\">\n",
    "<span style=\"font-size:26px;\">\n",
    "Which service generates the highest revenue overall?"
   ]
  },
  {
   "cell_type": "code",
   "execution_count": 25,
   "id": "c12ad379",
   "metadata": {},
   "outputs": [
    {
     "data": {
      "text/plain": [
       "services\n",
       "bike           7432783.95\n",
       "auto           6099731.32\n",
       "cab economy    5006233.04\n",
       "parcel         3686514.15\n",
       "bike lite      2387720.59\n",
       "Name: total_fare, dtype: float64"
      ]
     },
     "execution_count": 25,
     "metadata": {},
     "output_type": "execute_result"
    }
   ],
   "source": [
    "serv_rev=df.groupby('services')['total_fare'].sum().sort_values(ascending=False)\n",
    "serv_rev"
   ]
  },
  {
   "cell_type": "code",
   "execution_count": 26,
   "id": "53d6ed47",
   "metadata": {},
   "outputs": [
    {
     "name": "stderr",
     "output_type": "stream",
     "text": [
      "C:\\Users\\anusr\\AppData\\Local\\Temp\\ipykernel_24468\\3545332435.py:4: FutureWarning: \n",
      "\n",
      "Passing `palette` without assigning `hue` is deprecated and will be removed in v0.14.0. Assign the `x` variable to `hue` and set `legend=False` for the same effect.\n",
      "\n",
      "  sns.barplot(x=serv_rev.index,y=serv_rev.values,palette='twilight')\n"
     ]
    },
    {
     "data": {
      "text/plain": [
       "<Axes: title={'center': 'Total Revenue of different services'}, xlabel='Services', ylabel='Revenue'>"
      ]
     },
     "execution_count": 26,
     "metadata": {},
     "output_type": "execute_result"
    },
    {
     "data": {
      "image/png": "[encoded data removed]",
      "text/plain": [
       "<Figure size 640x480 with 1 Axes>"
      ]
     },
     "metadata": {},
     "output_type": "display_data"
    }
   ],
   "source": [
    "plt.xlabel(\"Services\",fontweight='bold',fontsize=11)\n",
    "plt.ylabel(\"Revenue\",fontweight='bold',fontsize=11)\n",
    "plt.title(\"Total Revenue of different services\",fontweight='bold',fontsize=15)\n",
    "sns.barplot(x=serv_rev.index,y=serv_rev.values,palette='twilight')"
   ]
  },
  {
   "cell_type": "markdown",
   "id": "1ce5ffec",
   "metadata": {},
   "source": [
    "<p style=\"text-align:justify;\">\n",
    "<span style=\"color:#ed7c2b\">\n",
    "<span style=\"font-size:22px;\">\n",
    "The analysis shows that bike services generate the highest overall revenue, contributing significantly more than other categories. Auto and cab economy follow closely, indicating that these are also popular and revenue-driving options. Parcel and bike lite services contribute the least, suggesting lower demand or smaller fare values compared to other services.</p>\n",
    "\n",
    "<p style=\"text-align:justify;\">\n",
    "<span style=\"color:#ed7c2b\">\n",
    "<span style=\"font-size:22px;\">\n",
    "The main reason is that bike services are often cheaper, faster, and more convenient for short-distance trips, which leads to a higher volume of rides and thus more total revenue. Auto and cab economy have steady demand but may face higher competition and longer trip times. Parcel and bike lite generate less revenue because they serve only specific needs with lower ride frequency compared to passenger-focused services.</p>"
   ]
  },
  {
   "cell_type": "markdown",
   "id": "e9a2119e",
   "metadata": {},
   "source": [
    "<span style=\"color:#de4710\">\n",
    "<span style=\"font-size:26px;\">\n",
    "Which is the most common payment method?"
   ]
  },
  {
   "cell_type": "code",
   "execution_count": 27,
   "id": "84d6815f",
   "metadata": {},
   "outputs": [
    {
     "data": {
      "text/plain": [
       "payment_method\n",
       "Paytm         11315\n",
       "GPay          11268\n",
       "Amazon Pay    11225\n",
       "QR scan       11156\n",
       "Name: count, dtype: int64"
      ]
     },
     "execution_count": 27,
     "metadata": {},
     "output_type": "execute_result"
    }
   ],
   "source": [
    "com_pay=df['payment_method'].value_counts()\n",
    "com_pay"
   ]
  },
  {
   "cell_type": "code",
   "execution_count": 28,
   "id": "61c345db",
   "metadata": {},
   "outputs": [
    {
     "name": "stderr",
     "output_type": "stream",
     "text": [
      "C:\\Users\\anusr\\AppData\\Local\\Temp\\ipykernel_24468\\776600712.py:4: FutureWarning: \n",
      "\n",
      "Passing `palette` without assigning `hue` is deprecated and will be removed in v0.14.0. Assign the `x` variable to `hue` and set `legend=False` for the same effect.\n",
      "\n",
      "  sns.countplot(x='payment_method',data=df,order=com_pay.index,palette='OrRd')\n"
     ]
    },
    {
     "data": {
      "text/plain": [
       "<Axes: title={'center': 'Total Revenue of different services'}, xlabel='Payment Method', ylabel='Count'>"
      ]
     },
     "execution_count": 28,
     "metadata": {},
     "output_type": "execute_result"
    },
    {
     "data": {
      "image/png": "[encoded data removed]",
      "text/plain": [
       "<Figure size 640x480 with 1 Axes>"
      ]
     },
     "metadata": {},
     "output_type": "display_data"
    }
   ],
   "source": [
    "plt.xlabel(\"Payment Method\",fontweight='bold',fontsize=11)\n",
    "plt.ylabel(\"Count\",fontweight='bold',fontsize=11)\n",
    "plt.title(\"Total Revenue of different services\",fontweight='bold',fontsize=15)\n",
    "sns.countplot(x='payment_method',data=df,order=com_pay.index,palette='OrRd')"
   ]
  },
  {
   "cell_type": "markdown",
   "id": "ed72bc2e",
   "metadata": {},
   "source": [
    "<p style=\"text-align:justify;\">\n",
    "<span style=\"color:#ed7c2b\">\n",
    "<span style=\"font-size:22px;\">\n",
    "The analysis shows that Paytm is the most frequently used payment method, but only by a small margin compared to GPay and Amazon Pay. All four methods are almost equally popular, suggesting customers have diverse preferences in digital payments.</p>\n",
    "\n",
    "<p style=\"text-align:justify;\">\n",
    "<span style=\"color:#ed7c2b\">\n",
    "<span style=\"font-size:22px;\">\n",
    "The reason is that most customers prefer digital payments for convenience and speed, and multiple options like Paytm, GPay, Amazon Pay, and QR scan are widely available and accepted. Since all these platforms offer similar ease of use and reliability, users are spread fairly evenly across them, rather than favoring just one.</p>"
   ]
  },
  {
   "cell_type": "markdown",
   "id": "84072c61",
   "metadata": {},
   "source": [
    "<span style=\"color:#de4710\">\n",
    "<span style=\"font-size:26px;\">\n",
    "what is the total revenue per month?"
   ]
  },
  {
   "cell_type": "code",
   "execution_count": 29,
   "id": "b1313d02",
   "metadata": {},
   "outputs": [
    {
     "data": {
      "text/html": [
       "<div>\n",
       "<style scoped>\n",
       "    .dataframe tbody tr th:only-of-type {\n",
       "        vertical-align: middle;\n",
       "    }\n",
       "\n",
       "    .dataframe tbody tr th {\n",
       "        vertical-align: top;\n",
       "    }\n",
       "\n",
       "    .dataframe thead th {\n",
       "        text-align: right;\n",
       "    }\n",
       "</style>\n",
       "<table border=\"1\" class=\"dataframe\">\n",
       "  <thead>\n",
       "    <tr style=\"text-align: right;\">\n",
       "      <th></th>\n",
       "      <th>month</th>\n",
       "      <th>total_fare</th>\n",
       "    </tr>\n",
       "  </thead>\n",
       "  <tbody>\n",
       "    <tr>\n",
       "      <th>0</th>\n",
       "      <td>June</td>\n",
       "      <td>5548695.60</td>\n",
       "    </tr>\n",
       "    <tr>\n",
       "      <th>1</th>\n",
       "      <td>August</td>\n",
       "      <td>6547531.65</td>\n",
       "    </tr>\n",
       "    <tr>\n",
       "      <th>2</th>\n",
       "      <td>July</td>\n",
       "      <td>12516755.80</td>\n",
       "    </tr>\n",
       "  </tbody>\n",
       "</table>\n",
       "</div>"
      ],
      "text/plain": [
       "    month   total_fare\n",
       "0    June   5548695.60\n",
       "1  August   6547531.65\n",
       "2    July  12516755.80"
      ]
     },
     "execution_count": 29,
     "metadata": {},
     "output_type": "execute_result"
    }
   ],
   "source": [
    "df['month']=df['date'].dt.month_name()\n",
    "df.head()\n",
    "mon_rev=df.groupby('month')['total_fare'].sum().sort_values().reset_index()\n",
    "mon_rev"
   ]
  },
  {
   "cell_type": "code",
   "execution_count": 30,
   "id": "c57aa47d",
   "metadata": {},
   "outputs": [
    {
     "name": "stderr",
     "output_type": "stream",
     "text": [
      "C:\\Users\\anusr\\AppData\\Local\\Temp\\ipykernel_24468\\2376730494.py:4: FutureWarning: \n",
      "\n",
      "Passing `palette` without assigning `hue` is deprecated and will be removed in v0.14.0. Assign the `x` variable to `hue` and set `legend=False` for the same effect.\n",
      "\n",
      "  sns.barplot(data=mon_rev,x='month',y='total_fare',palette='viridis')\n"
     ]
    },
    {
     "data": {
      "text/plain": [
       "<Axes: title={'center': 'Total Revenue per Month'}, xlabel='Month', ylabel='Revenue'>"
      ]
     },
     "execution_count": 30,
     "metadata": {},
     "output_type": "execute_result"
    },
    {
     "data": {
      "image/png": "[encoded data removed]",
      "text/plain": [
       "<Figure size 640x480 with 1 Axes>"
      ]
     },
     "metadata": {},
     "output_type": "display_data"
    }
   ],
   "source": [
    "plt.xlabel(\"Month\",fontweight='bold',fontsize=11)\n",
    "plt.ylabel(\"Revenue\",fontweight='bold',fontsize=11)\n",
    "plt.title(\"Total Revenue per Month\",fontweight='bold',fontsize=15)\n",
    "sns.barplot(data=mon_rev,x='month',y='total_fare',palette='viridis')"
   ]
  },
  {
   "cell_type": "markdown",
   "id": "d427168e",
   "metadata": {},
   "source": [
    "<p style=\"text-align:justify;\">\n",
    "<span style=\"color:#ed7c2b\">\n",
    "<span style=\"font-size:22px;\">\n",
    "The data shows significant monthly variation in total fares, with July generating the highest revenue at 12,516,755.80, August at a moderate 6,547,531.65, and June the lowest at 5,548,695.60.</p>\n",
    "\n",
    "<p style=\"text-align:justify;\">\n",
    "<span style=\"color:#ed7c2b\">\n",
    "<span style=\"font-size:22px;\">\n",
    "The reason for this variation is likely seasonal demand fluctuations—July may have higher ride activity due to holidays, events, or favorable weather, while June and August experience lower demand, leading to reduced total fares.</p>"
   ]
  },
  {
   "cell_type": "markdown",
   "id": "4e6dbe42",
   "metadata": {},
   "source": [
    "<span style=\"color:#de4710\">\n",
    "<span style=\"font-size:26px;\">\n",
    "What is the average fare per ride across different service types (auto, cab economy, cab premium)?"
   ]
  },
  {
   "cell_type": "code",
   "execution_count": 31,
   "id": "4f17ed0b",
   "metadata": {},
   "outputs": [
    {
     "data": {
      "text/html": [
       "<div>\n",
       "<style scoped>\n",
       "    .dataframe tbody tr th:only-of-type {\n",
       "        vertical-align: middle;\n",
       "    }\n",
       "\n",
       "    .dataframe tbody tr th {\n",
       "        vertical-align: top;\n",
       "    }\n",
       "\n",
       "    .dataframe thead th {\n",
       "        text-align: right;\n",
       "    }\n",
       "</style>\n",
       "<table border=\"1\" class=\"dataframe\">\n",
       "  <thead>\n",
       "    <tr style=\"text-align: right;\">\n",
       "      <th></th>\n",
       "      <th>services</th>\n",
       "      <th>total_fare</th>\n",
       "    </tr>\n",
       "  </thead>\n",
       "  <tbody>\n",
       "    <tr>\n",
       "      <th>0</th>\n",
       "      <td>bike lite</td>\n",
       "      <td>544.147810</td>\n",
       "    </tr>\n",
       "    <tr>\n",
       "      <th>1</th>\n",
       "      <td>parcel</td>\n",
       "      <td>546.393086</td>\n",
       "    </tr>\n",
       "    <tr>\n",
       "      <th>2</th>\n",
       "      <td>cab economy</td>\n",
       "      <td>547.248911</td>\n",
       "    </tr>\n",
       "    <tr>\n",
       "      <th>3</th>\n",
       "      <td>bike</td>\n",
       "      <td>547.857592</td>\n",
       "    </tr>\n",
       "    <tr>\n",
       "      <th>4</th>\n",
       "      <td>auto</td>\n",
       "      <td>548.833122</td>\n",
       "    </tr>\n",
       "  </tbody>\n",
       "</table>\n",
       "</div>"
      ],
      "text/plain": [
       "      services  total_fare\n",
       "0    bike lite  544.147810\n",
       "1       parcel  546.393086\n",
       "2  cab economy  547.248911\n",
       "3         bike  547.857592\n",
       "4         auto  548.833122"
      ]
     },
     "execution_count": 31,
     "metadata": {},
     "output_type": "execute_result"
    }
   ],
   "source": [
    "avg_fare=df.groupby('services')['total_fare'].mean().sort_values().reset_index()\n",
    "avg_fare"
   ]
  },
  {
   "cell_type": "code",
   "execution_count": 32,
   "id": "9f0286dd",
   "metadata": {},
   "outputs": [
    {
     "name": "stderr",
     "output_type": "stream",
     "text": [
      "C:\\Users\\anusr\\AppData\\Local\\Temp\\ipykernel_24468\\3854246877.py:4: FutureWarning: \n",
      "\n",
      "Passing `palette` without assigning `hue` is deprecated and will be removed in v0.14.0. Assign the `x` variable to `hue` and set `legend=False` for the same effect.\n",
      "\n",
      "  sns.barplot(data=avg_fare,x='services',y='total_fare',palette='crest')\n"
     ]
    },
    {
     "data": {
      "text/plain": [
       "<Axes: title={'center': 'Average fare across Services'}, xlabel='Services', ylabel='Total fare'>"
      ]
     },
     "execution_count": 32,
     "metadata": {},
     "output_type": "execute_result"
    },
    {
     "data": {
      "image/png": "[encoded data removed]",
      "text/plain": [
       "<Figure size 640x480 with 1 Axes>"
      ]
     },
     "metadata": {},
     "output_type": "display_data"
    }
   ],
   "source": [
    "plt.xlabel(\"Services\",fontweight='bold',fontsize=11)\n",
    "plt.ylabel(\"Total fare\",fontweight='bold',fontsize=11)\n",
    "plt.title(\"Average fare across Services\",fontweight='bold',fontsize=15)\n",
    "sns.barplot(data=avg_fare,x='services',y='total_fare',palette='crest')"
   ]
  },
  {
   "cell_type": "markdown",
   "id": "c16f74e9",
   "metadata": {},
   "source": [
    "<p style=\"text-align:justify;\">\n",
    "<span style=\"color:#ed7c2b\">\n",
    "<span style=\"font-size:22px;\">\n",
    "The average fares for different services are very similar, ranging from 544.15 to 548.83, showing minimal variation in revenue per service type. Auto services generate the highest fare, while bike lite generates the lowest, though the difference is small. Overall, all services contribute almost equally to revenue, suggesting focus can be on efficiency or customer preference rather than fare differences.</p>\n",
    "\n",
    "<p style=\"text-align:justify;\">\n",
    "<span style=\"color:#ed7c2b\">\n",
    "<span style=\"font-size:22px;\">\n",
    "The reason could be that the trip distances or durations are similar across different services, so the total fare collected from each service type stays almost equal.</p>"
   ]
  },
  {
   "cell_type": "markdown",
   "id": "cc545aa7",
   "metadata": {},
   "source": [
    "<span style=\"color:#de4710\">\n",
    "<span style=\"font-size:26px;\">\n",
    "What is the average distance across different services?"
   ]
  },
  {
   "cell_type": "code",
   "execution_count": 33,
   "id": "a4c73d48",
   "metadata": {},
   "outputs": [
    {
     "data": {
      "text/html": [
       "<div>\n",
       "<style scoped>\n",
       "    .dataframe tbody tr th:only-of-type {\n",
       "        vertical-align: middle;\n",
       "    }\n",
       "\n",
       "    .dataframe tbody tr th {\n",
       "        vertical-align: top;\n",
       "    }\n",
       "\n",
       "    .dataframe thead th {\n",
       "        text-align: right;\n",
       "    }\n",
       "</style>\n",
       "<table border=\"1\" class=\"dataframe\">\n",
       "  <thead>\n",
       "    <tr style=\"text-align: right;\">\n",
       "      <th></th>\n",
       "      <th>services</th>\n",
       "      <th>distance</th>\n",
       "    </tr>\n",
       "  </thead>\n",
       "  <tbody>\n",
       "    <tr>\n",
       "      <th>0</th>\n",
       "      <td>bike</td>\n",
       "      <td>25.353878</td>\n",
       "    </tr>\n",
       "    <tr>\n",
       "      <th>1</th>\n",
       "      <td>cab economy</td>\n",
       "      <td>25.498173</td>\n",
       "    </tr>\n",
       "    <tr>\n",
       "      <th>2</th>\n",
       "      <td>auto</td>\n",
       "      <td>25.531252</td>\n",
       "    </tr>\n",
       "    <tr>\n",
       "      <th>3</th>\n",
       "      <td>bike lite</td>\n",
       "      <td>25.646167</td>\n",
       "    </tr>\n",
       "    <tr>\n",
       "      <th>4</th>\n",
       "      <td>parcel</td>\n",
       "      <td>25.649846</td>\n",
       "    </tr>\n",
       "  </tbody>\n",
       "</table>\n",
       "</div>"
      ],
      "text/plain": [
       "      services   distance\n",
       "0         bike  25.353878\n",
       "1  cab economy  25.498173\n",
       "2         auto  25.531252\n",
       "3    bike lite  25.646167\n",
       "4       parcel  25.649846"
      ]
     },
     "execution_count": 33,
     "metadata": {},
     "output_type": "execute_result"
    }
   ],
   "source": [
    "avg_dis=df.groupby('services')['distance'].mean().sort_values().reset_index()\n",
    "avg_dis"
   ]
  },
  {
   "cell_type": "code",
   "execution_count": 34,
   "id": "ed19305f",
   "metadata": {},
   "outputs": [
    {
     "name": "stderr",
     "output_type": "stream",
     "text": [
      "C:\\Users\\anusr\\AppData\\Local\\Temp\\ipykernel_24468\\1908005274.py:4: FutureWarning: \n",
      "\n",
      "Passing `palette` without assigning `hue` is deprecated and will be removed in v0.14.0. Assign the `x` variable to `hue` and set `legend=False` for the same effect.\n",
      "\n",
      "  sns.barplot(data=avg_dis,x='services',y='distance',palette='Paired')\n"
     ]
    },
    {
     "data": {
      "text/plain": [
       "<Axes: title={'center': 'Average distancere across Services'}, xlabel='Services', ylabel='Distance'>"
      ]
     },
     "execution_count": 34,
     "metadata": {},
     "output_type": "execute_result"
    },
    {
     "data": {
      "image/png": "[encoded data removed]",
      "text/plain": [
       "<Figure size 640x480 with 1 Axes>"
      ]
     },
     "metadata": {},
     "output_type": "display_data"
    }
   ],
   "source": [
    "plt.xlabel(\"Services\",fontweight='bold',fontsize=11)\n",
    "plt.ylabel(\"Distance\",fontweight='bold',fontsize=11)\n",
    "plt.title(\"Average distancere across Services\",fontweight='bold',fontsize=15)\n",
    "sns.barplot(data=avg_dis,x='services',y='distance',palette='Paired')"
   ]
  },
  {
   "cell_type": "markdown",
   "id": "b3551cef",
   "metadata": {},
   "source": [
    "<p style=\"text-align:justify;\">\n",
    "<span style=\"color:#ed7c2b\">\n",
    "<span style=\"font-size:22px;\">\n",
    "The average distances traveled by different services are very similar, ranging from 25.35 to 25.65 km, showing minimal variation across service types. Parcel and bike lite services cover slightly longer distances, while bike covers the shortest, though the differences are small. This indicates that all services operate over nearly the same trip lengths, suggesting consistent service areas or routing patterns. Overall, distance does not appear to be a major differentiator among the services.</p>"
   ]
  },
  {
   "cell_type": "markdown",
   "id": "84125351",
   "metadata": {},
   "source": [
    "<p style=\"text-align:justify;\">\n",
    "<span style=\"color:#cfad34\">\n",
    "<span style=\"font-size:26px;\">\n",
    "SUMMARY:\n",
    "\n",
    "<p style=\"text-align:justify;\">\n",
    "<span style=\"color:#e65245\">\n",
    "<span style=\"font-size:22px;\">\n",
    "The dataset shows that the company offers five services—Bike, Auto, Cab Economy, Parcel, and Bike Lite—covering both passenger travel and goods delivery. Bike is the most popular service with the highest number of bookings, followed by Auto and Cab Economy, while Parcel and Bike Lite have lower usage. Bike rides are faster and more convenient in traffic, making them highly preferred by customers, whereas Auto and Cab Economy are chosen for comfort and slightly longer trips. Parcel and Bike Lite have limited usage because they serve specific needs like deliveries or short rides. Travel demand is concentrated in key areas, with Gottigere Landing and Gottigere Square being the most visited destinations. Average trip distances are similar across services, ranging from 25.35 to 25.65 km, and average fares are also nearly equal, indicating minimal revenue variation per service type. Weekdays, especially Monday, have higher bookings compared to weekends, and July records the highest number of rides due to seasonal factors like holidays and favorable weather. Bike services generate the highest overall revenue, followed by Auto and Cab Economy, while Parcel and Bike Lite contribute the least. Digital payments are widely used, with Paytm, GPay, Amazon Pay, and QR scan almost equally popular among customers. Overall, the data indicates that passenger-focused services drive the majority of demand and revenue, travel patterns are concentrated in specific locations and times, and bikes offer the fastest and most convenient option for urban travel.</p>"
   ]
  }
 ],
 "metadata": {
  "kernelspec": {
   "display_name": "Python 3",
   "language": "python",
   "name": "python3"
  },
  "language_info": {
   "codemirror_mode": {
    "name": "ipython",
    "version": 3
   },
   "file_extension": ".py",
   "mimetype": "text/x-python",
   "name": "python",
   "nbconvert_exporter": "python",
   "pygments_lexer": "ipython3",
   "version": "3.10.11"
  }
 },
 "nbformat": 4,
 "nbformat_minor": 5
}
